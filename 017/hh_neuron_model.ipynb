{
 "cells": [
  {
   "cell_type": "code",
   "execution_count": 1,
   "metadata": {},
   "outputs": [],
   "source": [
    "import pandas as pd\n",
    "import matplotlib.pyplot as plt\n",
    "from gen_euler_estimator import EulerEstimator\n",
    "import math"
   ]
  },
  {
   "cell_type": "code",
   "execution_count": 2,
   "metadata": {},
   "outputs": [],
   "source": [
    "V_0 = 0\n",
    "n_0 = 0.317676914\n",
    "m_0 = 0.0529324854\n",
    "h_0 = 0.596120753\n",
    "C = 1.0\n",
    "V_Na = 115\n",
    "V_K = -12\n",
    "V_L = 10.6\n",
    "_g_Na = 120\n",
    "_g_K = 36\n",
    "_g_L = 0.3"
   ]
  },
  {
   "cell_type": "code",
   "execution_count": null,
   "metadata": {},
   "outputs": [],
   "source": [
    "def alpha_n(t, state):\n",
    "    return (0.01 * (10 - state['V'])) / (math.e ** (0.1 * (10 - state['V'])) - 1)\n",
    "\n",
    "def alpha_m(t, state):\n",
    "    return (0.1 * (25 - state['V'])) / (math.e ** (0.1 * (25 - state['V'])) - 1)\n",
    "\n",
    "def alpha_h(t, state):\n",
    "    return 0.07 * math.e ** (-1 * state['V'] / 20)\n",
    "\n",
    "def beta_n(t, state):\n",
    "    return 0.125 * math.e ** (-1 * state['V'] / 80)\n",
    "\n",
    "def beta_m(t, state):\n",
    "    return 4 * math.e ** (-1 * state['V'] / 18)\n",
    "\n",
    "def beta_h(t, state):\n",
    "    return 1 / (math.e ** (0.1 * (30 - state['V'])) + 1)"
   ]
  },
  {
   "cell_type": "code",
   "execution_count": null,
   "metadata": {},
   "outputs": [],
   "source": [
    "def g_Na(t, state):\n",
    "    return _g_Na * state['m'] ** 3 * state['h']\n",
    "\n",
    "def g_K(t, state)\n",
    "    return _g_K * state['n'] ** 4\n",
    "\n",
    "def g_L(t, state):\n",
    "    return _g_L"
   ]
  },
  {
   "cell_type": "code",
   "execution_count": null,
   "metadata": {},
   "outputs": [],
   "source": [
    "def I_Na(t, state):\n",
    "    return g_Na(t, state) * (state['V'] - V_Na)\n",
    "\n",
    "def I_K(t, state):\n",
    "    return g_K(t, state) * (state['V'] - V_K)\n",
    "\n",
    "def I_L(t, state):\n",
    "    return g_L(t, state) * (state['V'] - V_L)"
   ]
  },
  {
   "cell_type": "code",
   "execution_count": null,
   "metadata": {},
   "outputs": [],
   "source": [
    "def s(t, state):\n",
    "    if t in list(range(10, 12) + range(20, 22) + range(30, 41) + range(50, 21) + range(53, 55) + range(56, 58) + range(59, 61) + range(62, 64) + range(65, 67)):\n",
    "        return 150\n",
    "    else:\n",
    "        return 0"
   ]
  },
  {
   "cell_type": "code",
   "execution_count": null,
   "metadata": {},
   "outputs": [],
   "source": []
  }
 ],
 "metadata": {
  "kernelspec": {
   "display_name": "Python 3.10.4 64-bit",
   "language": "python",
   "name": "python3"
  },
  "language_info": {
   "codemirror_mode": {
    "name": "ipython",
    "version": 3
   },
   "file_extension": ".py",
   "mimetype": "text/x-python",
   "name": "python",
   "nbconvert_exporter": "python",
   "pygments_lexer": "ipython3",
   "version": "3.10.4"
  },
  "orig_nbformat": 4,
  "vscode": {
   "interpreter": {
    "hash": "4f946df053fbf2b937619d3c5458e7af74262f9a954d8797ba0b27400bcafe06"
   }
  }
 },
 "nbformat": 4,
 "nbformat_minor": 2
}
