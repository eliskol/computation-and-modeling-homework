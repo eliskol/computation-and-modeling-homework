{
 "cells": [
  {
   "cell_type": "code",
   "execution_count": 6,
   "metadata": {},
   "outputs": [
    {
     "name": "stdout",
     "output_type": "stream",
     "text": [
      "{'a': 0.55, 'b': -0.5, 'c': -1.3000000000000003}\n",
      "[(-0.4, {'a': -0.45, 'b': -0.05, 'c': 0}), (1.6, {'a': 0.6500000000000001, 'b': -1.05, 'c': -2.6000000000000005}), (3.6, {'a': 3.95, 'b': -1.8499999999999999, 'c': 2.8000000000000007}), (5.6, {'a': 13.850000000000001, 'b': 2.3500000000000014, 'c': 17.000000000000004})]\n"
     ]
    }
   ],
   "source": [
    "import pandas as pd\n",
    "import matplotlib\n",
    "from gen_euler_estimator import EulerEstimator"
   ]
  },
  {
   "cell_type": "code",
   "execution_count": 4,
   "metadata": {},
   "outputs": [],
   "source": [
    "def da_dt(t, state):\n",
    "    return state['a'] + 1\n",
    "\n",
    "\n",
    "def db_dt(t, state):\n",
    "    return state['a'] + state['b']\n",
    "\n",
    "\n",
    "def dc_dt(t, state):\n",
    "    return 2 * state['b'] + 3 * t\n",
    "\n",
    "\n",
    "derivatives = {\n",
    "    'a': da_dt,\n",
    "    'b': db_dt,\n",
    "    'c': dc_dt\n",
    "}\n",
    "\n",
    "initial_state = {'a': -0.45, 'b': -0.05, 'c': 0}\n",
    "initial_point = (-0.4, initial_state)\n"
   ]
  },
  {
   "cell_type": "code",
   "execution_count": 60,
   "metadata": {},
   "outputs": [
    {
     "data": {
      "image/png": "[encoded data removed]",
      "text/plain": [
       "<Figure size 432x288 with 1 Axes>"
      ]
     },
     "metadata": {
      "needs_background": "light"
     },
     "output_type": "display_data"
    }
   ],
   "source": [
    "euler = EulerEstimator(derivatives)\n",
    "\n",
    "\n",
    "estimated_points = euler.calc_estimated_points(initial_point, step_size=0.001, num_steps=1000)\n",
    "state_dict = {dimension: [point[1][dimension] for point in estimated_points] for dimension in euler.dimensions}\n",
    "t_list = [point[0] for point in estimated_points]\n",
    "df_dict = {'t': t_list}\n",
    "df_dict.update(state_dict)\n",
    "df = pd.DataFrame(df_dict)\n",
    "plot = df.plot(kind=\"scatter\", x=\"t\", y=\"a\")\n",
    "for dimension in state_dict:\n",
    "    plot = df.plot(kind=\"scatter\", x=\"t\", y=dimension, ax=plot)"
   ]
  }
 ],
 "metadata": {
  "interpreter": {
   "hash": "8b8334dab9339717f727a1deaf837b322d7a41c20d15cc86be99a8e69ceec8ce"
  },
  "kernelspec": {
   "display_name": "Python 3.8.12 64-bit ('3.8.12': pyenv)",
   "language": "python",
   "name": "python3"
  },
  "language_info": {
   "codemirror_mode": {
    "name": "ipython",
    "version": 3
   },
   "file_extension": ".py",
   "mimetype": "text/x-python",
   "name": "python",
   "nbconvert_exporter": "python",
   "pygments_lexer": "ipython3",
   "version": "3.8.12"
  },
  "orig_nbformat": 4
 },
 "nbformat": 4,
 "nbformat_minor": 2
}
